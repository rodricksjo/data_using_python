{
 "cells": [
  {
   "cell_type": "code",
   "execution_count": null,
   "id": "e81bd691",
   "metadata": {},
   "outputs": [],
   "source": [
    "import pandas as pd\n",
    "import numpy as np\n",
    "import matplotlib.pyplot as plt\n",
    "import seaborn as sns\n",
    "import os\n",
    "import plotly.express as px\n",
    "import chart_studio.plotly as py\n",
    "import plotly.graph_objs as go\n",
    "from plotly.offline import download_plotlyjs, init_notebook_mode, plot, iplot\n",
    "import matplotlib.pyplot as plt\n",
    "import folium \n",
    "from folium.plugins import HeatMap"
   ]
  },
  {
   "cell_type": "code",
   "execution_count": null,
   "id": "f28166bf",
   "metadata": {},
   "outputs": [],
   "source": [
    "os.listdir(r'C:\\Users\\JOVAN RODRIGUES\\Desktop\\data_analsis\\uber-pickups-in-new-york-city')"
   ]
  },
  {
   "cell_type": "code",
   "execution_count": null,
   "id": "b25e28a6",
   "metadata": {},
   "outputs": [],
   "source": [
    "files =os.listdir(r'C:\\Users\\JOVAN RODRIGUES\\Desktop\\data_analsis\\uber-pickups-in-new-york-city')[-7:]"
   ]
  },
  {
   "cell_type": "code",
   "execution_count": null,
   "id": "9223ee29",
   "metadata": {},
   "outputs": [],
   "source": [
    "files.remove('uber-raw-data-janjune-15.csv')"
   ]
  },
  {
   "cell_type": "code",
   "execution_count": null,
   "id": "c9081fd1",
   "metadata": {},
   "outputs": [],
   "source": []
  },
  {
   "cell_type": "code",
   "execution_count": null,
   "id": "c62e9f46",
   "metadata": {},
   "outputs": [],
   "source": [
    "path = r'C:\\Users\\JOVAN RODRIGUES\\Desktop\\data_analsis\\uber-pickups-in-new-york-city'\n",
    "\n",
    "\n",
    "final=pd.DataFrame()\n",
    "for file in files :\n",
    "    df=pd.read_csv(path+\"/\"+file,encoding='utf-8')\n",
    "    final = pd.concat([final,df])"
   ]
  },
  {
   "cell_type": "code",
   "execution_count": null,
   "id": "5f8d57e2",
   "metadata": {},
   "outputs": [],
   "source": [
    "df=final.copy()"
   ]
  },
  {
   "cell_type": "code",
   "execution_count": null,
   "id": "698b6e74",
   "metadata": {},
   "outputs": [],
   "source": [
    "df.head()"
   ]
  },
  {
   "cell_type": "code",
   "execution_count": null,
   "id": "0b382a4b",
   "metadata": {},
   "outputs": [],
   "source": [
    "df.dtypes"
   ]
  },
  {
   "cell_type": "code",
   "execution_count": null,
   "id": "cd0b8897",
   "metadata": {},
   "outputs": [],
   "source": [
    "df['Date/Time']=pd.to_datetime(df['Date/Time'],format='%m/%d/%Y %H:%M:%S')"
   ]
  },
  {
   "cell_type": "code",
   "execution_count": null,
   "id": "6123ba5b",
   "metadata": {},
   "outputs": [],
   "source": [
    "df['weekday']=df['Date/Time'].dt.day_name()\n",
    "df['Day']=df['Date/Time'].dt.day\n",
    "df['minute']=df['Date/Time'].dt.minute\n",
    "df['month']=df['Date/Time'].dt.month\n",
    "df['hour']=df['Date/Time'].dt.hour"
   ]
  },
  {
   "cell_type": "code",
   "execution_count": null,
   "id": "cd8df5b8",
   "metadata": {},
   "outputs": [],
   "source": [
    "px.bar(x=df['weekday'].value_counts().index,\n",
    "       y=df['weekday'].value_counts()\n",
    "      )"
   ]
  },
  {
   "cell_type": "code",
   "execution_count": null,
   "id": "7f5abdb4",
   "metadata": {},
   "outputs": [],
   "source": [
    "df['weekday'].value_counts().index"
   ]
  },
  {
   "cell_type": "code",
   "execution_count": null,
   "id": "802b58d2",
   "metadata": {},
   "outputs": [],
   "source": [
    "df['weekday'].value_counts()"
   ]
  },
  {
   "cell_type": "code",
   "execution_count": null,
   "id": "a10cc46a",
   "metadata": {},
   "outputs": [],
   "source": [
    "plt.hist(df['hour'])"
   ]
  },
  {
   "cell_type": "code",
   "execution_count": null,
   "id": "d067fcb7",
   "metadata": {},
   "outputs": [],
   "source": [
    "df['month'].unique()"
   ]
  },
  {
   "cell_type": "code",
   "execution_count": null,
   "id": "096aeb33",
   "metadata": {},
   "outputs": [],
   "source": [
    "for i,month in enumerate(df['month'].unique()):\n",
    "                      print(i)\n",
    "                      print(month)"
   ]
  },
  {
   "cell_type": "code",
   "execution_count": null,
   "id": "cada06dd",
   "metadata": {},
   "outputs": [],
   "source": [
    "plt.figure(figsize=(40,20))\n",
    "\n",
    "for i,month in enumerate(df['month'].unique()):\n",
    "    plt.subplot(3,2,i+1)\n",
    "    df[df['month']== month]['hour'].hist()"
   ]
  },
  {
   "cell_type": "code",
   "execution_count": null,
   "id": "98118353",
   "metadata": {},
   "outputs": [],
   "source": [
    "df.groupby('month')['hour'].count()"
   ]
  },
  {
   "cell_type": "code",
   "execution_count": null,
   "id": "5f894364",
   "metadata": {},
   "outputs": [],
   "source": [
    "trace1=go.Bar(\n",
    "x=df.groupby('month')['hour'].count().index,\n",
    " y=df.groupby('month')['hour'].count(),\n",
    "    name ='Priority'\n",
    ")\n",
    "iplot([trace1])"
   ]
  },
  {
   "cell_type": "code",
   "execution_count": null,
   "id": "156bdf99",
   "metadata": {},
   "outputs": [],
   "source": [
    "sns.displot(df['Day'])"
   ]
  },
  {
   "cell_type": "code",
   "execution_count": null,
   "id": "bfeaf64a",
   "metadata": {},
   "outputs": [],
   "source": [
    "plt.figure(figsize=(10,8))\n",
    "plt.hist(df['Day'],bins=30 ,rwidth=0.8,range=(0.5,30.5))\n",
    "plt.xlabel('Date of the month')\n",
    "plt.ylabel('Total Journey ')"
   ]
  },
  {
   "cell_type": "code",
   "execution_count": null,
   "id": "b9f9cca8",
   "metadata": {},
   "outputs": [],
   "source": [
    "plt.figure(figsize=(20,8))\n",
    "\n",
    "for i,month in enumerate(df['month'].unique(),1):\n",
    "    plt.subplot(3,2,i)\n",
    "    df_out =df[df['month']==month]\n",
    "    plt.hist(df_out['Day'])\n",
    "    plt.xlabel('Days of month {}'.format(month))\n",
    "    plt.ylabel('total_rides')"
   ]
  },
  {
   "cell_type": "code",
   "execution_count": null,
   "id": "f1d17bec",
   "metadata": {},
   "outputs": [],
   "source": [
    "sns.pointplot(x='hour',y='Lat',data=df)\n",
    "sns.pointplot(x='hour',y='Lat',data=df,hue='weekday')\n",
    "ax.set_title('hoursofday v/s latitude of passengers')"
   ]
  },
  {
   "cell_type": "code",
   "execution_count": null,
   "id": "ab65dcd3",
   "metadata": {},
   "outputs": [],
   "source": [
    "base=df.groupby(['Base','month'])['Date/Time'].count().reset_index()\n",
    "base"
   ]
  },
  {
   "cell_type": "code",
   "execution_count": null,
   "id": "c5d7433b",
   "metadata": {},
   "outputs": [],
   "source": [
    "plt.figure(figsize=(10,6))\n",
    "sns.lineplot(x='month', y='Date/Time' , hue='Base',data=base)"
   ]
  },
  {
   "cell_type": "code",
   "execution_count": null,
   "id": "3fdaefcc",
   "metadata": {},
   "outputs": [],
   "source": [
    "def count_rows(rows):\n",
    "    return len(rows)"
   ]
  },
  {
   "cell_type": "code",
   "execution_count": null,
   "id": "e8841185",
   "metadata": {},
   "outputs": [],
   "source": [
    "by_cross=df.groupby(['weekday','hour']).apply(count_rows)\n",
    "by_cross"
   ]
  },
  {
   "cell_type": "code",
   "execution_count": null,
   "id": "a70ef356",
   "metadata": {},
   "outputs": [],
   "source": [
    "pivot=by_cross.unstack()\n",
    "pivot"
   ]
  },
  {
   "cell_type": "code",
   "execution_count": null,
   "id": "b465697e",
   "metadata": {},
   "outputs": [],
   "source": [
    "plt.figure(figsize=(10,8))\n",
    "sns.heatmap(pivot)"
   ]
  },
  {
   "cell_type": "code",
   "execution_count": null,
   "id": "bc706506",
   "metadata": {},
   "outputs": [],
   "source": [
    "def heatmap(col1,col2):\n",
    "    by_cross=df.groupby([col1,col2]).apply(count_rows)\n",
    "    pivot=by_cross.unstack()\n",
    "    plt.figure(figsize=(10,8))\n",
    "    return sns.heatmap(pivot)"
   ]
  },
  {
   "cell_type": "code",
   "execution_count": null,
   "id": "8c3a9962",
   "metadata": {},
   "outputs": [],
   "source": [
    "heatmap('Day','hour')"
   ]
  },
  {
   "cell_type": "code",
   "execution_count": null,
   "id": "7ba57f3b",
   "metadata": {},
   "outputs": [],
   "source": [
    "heatmap('month','Day')"
   ]
  },
  {
   "cell_type": "code",
   "execution_count": null,
   "id": "1e22cf0a",
   "metadata": {},
   "outputs": [],
   "source": [
    "heatmap('month','weekday')"
   ]
  },
  {
   "cell_type": "code",
   "execution_count": null,
   "id": "772c300c",
   "metadata": {},
   "outputs": [],
   "source": [
    "plt.plot(df['Lon'],df['Lat'],'r+')"
   ]
  },
  {
   "cell_type": "code",
   "execution_count": null,
   "id": "f48a90df",
   "metadata": {},
   "outputs": [],
   "source": [
    "plt.figure(figsize=(12,6))\n",
    "plt.plot(df['Lon'],df['Lat'],'r+',ms=0.5)\n",
    "plt.xlin(-75,-72)\n",
    "plt.ylin(40.6,41)"
   ]
  },
  {
   "cell_type": "code",
   "execution_count": null,
   "id": "d5634149",
   "metadata": {},
   "outputs": [],
   "source": [
    "df_out=df[df['weekday']=='Sunday']\n",
    "rush=df_out.groupby(['Lat','Lon'])['weekday'].count().reset_index()\n",
    "rush.columns=['Lat','Lon','No of Trips ']"
   ]
  },
  {
   "cell_type": "code",
   "execution_count": null,
   "id": "b180d92b",
   "metadata": {},
   "outputs": [],
   "source": [
    "basemap=folium.Map()\n",
    "HeatMap(rush,zoom=20,radius=15).add_to(basemap)\n",
    "basemap"
   ]
  },
  {
   "cell_type": "code",
   "execution_count": null,
   "id": "6172ab9c",
   "metadata": {},
   "outputs": [],
   "source": [
    "def plot(df,day):\n",
    "    basemap=folium.Map()\n",
    "    df_out=df[df['weekday']=='Sunday']\n",
    "    HeatMap(df_out.groupby(['Lat','Lon'])['weekday'].count().reset_index(),zoom=20,radius=15).add_to(basemap)\n",
    "    return basemap"
   ]
  },
  {
   "cell_type": "code",
   "execution_count": null,
   "id": "6fe15e86",
   "metadata": {},
   "outputs": [],
   "source": [
    "plot(df,'Saturday')"
   ]
  },
  {
   "cell_type": "code",
   "execution_count": null,
   "id": "6ced9b3f",
   "metadata": {},
   "outputs": [],
   "source": [
    "plot(df,'Tuesday')"
   ]
  },
  {
   "cell_type": "code",
   "execution_count": null,
   "id": "3549f13a",
   "metadata": {},
   "outputs": [],
   "source": []
  }
 ],
 "metadata": {
  "kernelspec": {
   "display_name": "Python 3",
   "language": "python",
   "name": "python3"
  },
  "language_info": {
   "codemirror_mode": {
    "name": "ipython",
    "version": 3
   },
   "file_extension": ".py",
   "mimetype": "text/x-python",
   "name": "python",
   "nbconvert_exporter": "python",
   "pygments_lexer": "ipython3",
   "version": "3.8.8"
  }
 },
 "nbformat": 4,
 "nbformat_minor": 5
}
