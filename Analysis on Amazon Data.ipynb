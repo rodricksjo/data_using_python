{
 "cells": [
  {
   "cell_type": "code",
   "execution_count": null,
   "id": "b93e71cb",
   "metadata": {},
   "outputs": [],
   "source": [
    "#Importing Libraries\n",
    "import pandas as pd \n",
    "import numpy as np\n",
    "import matplotlib.pyplot as plt\n",
    "import seaborn as sns\n",
    "import sqlite3\n",
    "from textblob import TextBlob\n",
    "from wordcloud import WordCloud,STOPWORDS\n",
    "import re\n",
    "import plotly.express as px\n"
   ]
  },
  {
   "cell_type": "code",
   "execution_count": null,
   "id": "0afcdce9",
   "metadata": {},
   "outputs": [],
   "source": [
    "#Connecting Sqlite\n",
    "con=sqlite3.connect(\"C:/Users/JOVAN RODRIGUES/Downloads/database.sqlite\")"
   ]
  },
  {
   "cell_type": "code",
   "execution_count": null,
   "id": "de820699",
   "metadata": {},
   "outputs": [],
   "source": [
    "df=pd.read_sql_query('SELECT*FROM Reviews',con)\n",
    "df.head()"
   ]
  },
  {
   "cell_type": "code",
   "execution_count": null,
   "id": "dfa5ce2e",
   "metadata": {},
   "outputs": [],
   "source": [
    "pd.read_sql_query('SELECT*FROM Reviews LIMIT 3',con)"
   ]
  },
  {
   "cell_type": "code",
   "execution_count": null,
   "id": "e9e855f5",
   "metadata": {},
   "outputs": [],
   "source": [
    "#Reading CSV\n",
    "pd.read_csv(\"C:/Users/JOVAN RODRIGUES/Downloads/Reviews.csv\")"
   ]
  },
  {
   "cell_type": "code",
   "execution_count": null,
   "id": "d43b5968",
   "metadata": {},
   "outputs": [],
   "source": [
    "#Sentiment Analysis"
   ]
  },
  {
   "cell_type": "code",
   "execution_count": null,
   "id": "e81ddbd6",
   "metadata": {},
   "outputs": [],
   "source": [
    "text=df['Summary'][0]\n",
    "text"
   ]
  },
  {
   "cell_type": "code",
   "execution_count": null,
   "id": "5c676e78",
   "metadata": {},
   "outputs": [],
   "source": [
    "#Getting Polarity\n",
    "polarity=[]\n",
    "for i in df['Summary']:\n",
    "    try:\n",
    "        polarity.append(TextBlob(i).sentiment.polarity)\n",
    "    except:\n",
    "        polarity.append(0)"
   ]
  },
  {
   "cell_type": "code",
   "execution_count": null,
   "id": "17afe222",
   "metadata": {},
   "outputs": [],
   "source": [
    "data=df.copy()"
   ]
  },
  {
   "cell_type": "code",
   "execution_count": null,
   "id": "50f9667b",
   "metadata": {},
   "outputs": [],
   "source": [
    "#Adding Polarity column to the table\n",
    "data['polarity']=polarity"
   ]
  },
  {
   "cell_type": "code",
   "execution_count": null,
   "id": "345a296e",
   "metadata": {},
   "outputs": [],
   "source": [
    "#See polarity in data\n",
    "data.head()"
   ]
  },
  {
   "cell_type": "code",
   "execution_count": null,
   "id": "5262afc5",
   "metadata": {},
   "outputs": [],
   "source": [
    "#Explorarity data analysis\n",
    "#EDA for positive sentences"
   ]
  },
  {
   "cell_type": "code",
   "execution_count": null,
   "id": "90c25690",
   "metadata": {},
   "outputs": [],
   "source": [
    "data_positive=data[data['polarity']>0]\n",
    "data_positive.shape"
   ]
  },
  {
   "cell_type": "code",
   "execution_count": null,
   "id": "735cb396",
   "metadata": {},
   "outputs": [],
   "source": [
    "stopwords=set(STOPWORDS)"
   ]
  },
  {
   "cell_type": "code",
   "execution_count": null,
   "id": "6c74c425",
   "metadata": {},
   "outputs": [],
   "source": [
    "data_positive.head()"
   ]
  },
  {
   "cell_type": "code",
   "execution_count": null,
   "id": "ec733a3e",
   "metadata": {},
   "outputs": [],
   "source": [
    "total_text=(' '.join(data_positive['Summary']))\n",
    "total_text[0:10000]"
   ]
  },
  {
   "cell_type": "code",
   "execution_count": null,
   "id": "7f70d737",
   "metadata": {},
   "outputs": [],
   "source": [
    "total_text=re.sub('[^a-zA-Z]',' ',total_text)\n",
    "total_text"
   ]
  },
  {
   "cell_type": "code",
   "execution_count": null,
   "id": "1af2b122",
   "metadata": {},
   "outputs": [],
   "source": [
    "re.sub(' +',' ',total_text)"
   ]
  },
  {
   "cell_type": "code",
   "execution_count": null,
   "id": "07088bef",
   "metadata": {},
   "outputs": [],
   "source": [
    "total_text[0:10000]"
   ]
  },
  {
   "cell_type": "code",
   "execution_count": null,
   "id": "a0b6396d",
   "metadata": {},
   "outputs": [],
   "source": [
    "#Visual\n",
    "wordcloud=WordCloud(width=1000,height=500,stopwords=stopwords).generate(total_text)\n",
    "plt.figure(figsize=(15,5))\n",
    "plt.imshow(wordcloud)\n",
    "plt.axis('off')"
   ]
  },
  {
   "cell_type": "code",
   "execution_count": null,
   "id": "82fd5868",
   "metadata": {},
   "outputs": [],
   "source": [
    "#EDA for Negative Analysis\n",
    "data_negative=data[data['polarity']<0]"
   ]
  },
  {
   "cell_type": "code",
   "execution_count": null,
   "id": "87e36333",
   "metadata": {},
   "outputs": [],
   "source": [
    "total_text1=(' '.join(data_negative['Summary']))\n",
    "total_text1[0:10000]"
   ]
  },
  {
   "cell_type": "code",
   "execution_count": null,
   "id": "fda23c84",
   "metadata": {},
   "outputs": [],
   "source": [
    "total_text1=re.sub('[^a-zA-Z]',' ',total_text1)\n",
    "total_text1"
   ]
  },
  {
   "cell_type": "code",
   "execution_count": null,
   "id": "bc5d9adc",
   "metadata": {},
   "outputs": [],
   "source": [
    "re.sub(' +',' ',total_text1)"
   ]
  },
  {
   "cell_type": "code",
   "execution_count": null,
   "id": "468b1760",
   "metadata": {},
   "outputs": [],
   "source": [
    "total_text1[0:10000]"
   ]
  },
  {
   "cell_type": "code",
   "execution_count": null,
   "id": "eca15693",
   "metadata": {},
   "outputs": [],
   "source": [
    "#Visual\n",
    "wordcloud1=WordCloud(width=1000,height=500,stopwords=stopwords).generate(total_text1)\n",
    "plt.figure(figsize=(15,5))\n",
    "plt.imshow(wordcloud1)\n",
    "plt.axis('off')"
   ]
  },
  {
   "cell_type": "code",
   "execution_count": null,
   "id": "ad2a9247",
   "metadata": {},
   "outputs": [],
   "source": [
    "#Amazon Recomending \n",
    "df.head()"
   ]
  },
  {
   "cell_type": "code",
   "execution_count": null,
   "id": "cb2a0c11",
   "metadata": {},
   "outputs": [],
   "source": [
    "df['UserId'].nunique()"
   ]
  },
  {
   "cell_type": "code",
   "execution_count": null,
   "id": "f0b0a9fc",
   "metadata": {},
   "outputs": [],
   "source": [
    "raw=df.groupby('UserId').agg({'Summary':'count','Text':'count','Score':'mean','ProductId':'count'}).sort_values(by='Text',ascending=False)\n",
    "raw"
   ]
  },
  {
   "cell_type": "code",
   "execution_count": null,
   "id": "4258cf1b",
   "metadata": {},
   "outputs": [],
   "source": [
    "raw.columns=['number_of_summaries','num_text','Avg_Score','no_of_products_purchased']\n",
    "raw"
   ]
  },
  {
   "cell_type": "code",
   "execution_count": null,
   "id": "1342b19d",
   "metadata": {},
   "outputs": [],
   "source": [
    "#top 10 \n",
    "user_10=raw.index[0:10]\n",
    "number_10=raw['no_of_products_purchased'][0:10]"
   ]
  },
  {
   "cell_type": "code",
   "execution_count": null,
   "id": "fcfdd62d",
   "metadata": {},
   "outputs": [],
   "source": [
    "#Visual of top 10 customers\n",
    "plt.bar(user_10,number_10,label='most recommend users')\n",
    "plt.xlabel('User_Id')\n",
    "plt.ylabel('Number of ptroducts purchased')\n",
    "plt.xticks(rotation='vertical')"
   ]
  },
  {
   "cell_type": "code",
   "execution_count": null,
   "id": "3c2f7090",
   "metadata": {},
   "outputs": [],
   "source": [
    "df.sample(n=2000)"
   ]
  },
  {
   "cell_type": "code",
   "execution_count": null,
   "id": "39e504ae",
   "metadata": {},
   "outputs": [],
   "source": [
    "final=df[0:2000]\n",
    "final.isnull().sum()"
   ]
  },
  {
   "cell_type": "code",
   "execution_count": null,
   "id": "5df96ed6",
   "metadata": {},
   "outputs": [],
   "source": [
    "final.duplicated().sum()\n",
    "len(final['Text'][0].split(' '))"
   ]
  },
  {
   "cell_type": "code",
   "execution_count": null,
   "id": "b547f8ba",
   "metadata": {},
   "outputs": [],
   "source": [
    "#function to calculate len\n",
    "def calc_len(text):\n",
    "    return len(text.split('  '))"
   ]
  },
  {
   "cell_type": "code",
   "execution_count": null,
   "id": "d5952228",
   "metadata": {},
   "outputs": [],
   "source": [
    "final['Text_length']=final2['Text'].apply(calc_len)"
   ]
  },
  {
   "cell_type": "code",
   "execution_count": null,
   "id": "ed1cf2a8",
   "metadata": {},
   "outputs": [],
   "source": [
    "#Visual in box plot\n",
    "px.box(final,y='Text_length')"
   ]
  },
  {
   "cell_type": "code",
   "execution_count": null,
   "id": "ca28aee6",
   "metadata": {},
   "outputs": [],
   "source": [
    "#Visual in sns\n",
    "sns.countplot(final['Score'])"
   ]
  },
  {
   "cell_type": "code",
   "execution_count": null,
   "id": "b5dd952c",
   "metadata": {},
   "outputs": [],
   "source": [
    "final.head()"
   ]
  },
  {
   "cell_type": "code",
   "execution_count": null,
   "id": "fdf8044d",
   "metadata": {},
   "outputs": [],
   "source": [
    "final2['Text'].str.lower()"
   ]
  },
  {
   "cell_type": "code",
   "execution_count": null,
   "id": "6b3278f8",
   "metadata": {},
   "outputs": [],
   "source": [
    "f164=final['Text'][164]\n",
    "f164"
   ]
  },
  {
   "cell_type": "code",
   "execution_count": null,
   "id": "6cf27acd",
   "metadata": {},
   "outputs": [],
   "source": [
    "re.sub('[^a-zA-Z]',' ',final['Text'][164])"
   ]
  },
  {
   "cell_type": "code",
   "execution_count": null,
   "id": "70082ede",
   "metadata": {},
   "outputs": [],
   "source": [
    "punctuations='''!()::,'\"\\<>.?/@#$%*_-'''\n",
    "\n",
    "data4=final['Text'][164]\n",
    "no_punc=''\n",
    "for char in data4:\n",
    "    if char not in punctuations:\n",
    "        no_punc= no_punc + char\n",
    "no_punc  "
   ]
  },
  {
   "cell_type": "code",
   "execution_count": null,
   "id": "69e997c0",
   "metadata": {},
   "outputs": [],
   "source": [
    "#Removing punctiuation function\n",
    "import string \n",
    "punctuations=string.punctuation\n",
    "\n",
    "def remove_pnc(review):\n",
    "    no_punc=''\n",
    "    for char in review:\n",
    "        if char not in punctuations:\n",
    "            no_punc= no_punc+char\n",
    "    return no_punc "
   ]
  },
  {
   "cell_type": "code",
   "execution_count": null,
   "id": "d4d121b3",
   "metadata": {},
   "outputs": [],
   "source": [
    "final['Text']=final['Text'].apply(remove_pnc)"
   ]
  },
  {
   "cell_type": "code",
   "execution_count": null,
   "id": "ab3fbeb2",
   "metadata": {},
   "outputs": [],
   "source": [
    "final.head()"
   ]
  },
  {
   "cell_type": "code",
   "execution_count": null,
   "id": "59fbac22",
   "metadata": {},
   "outputs": [],
   "source": [
    "data5=final['Text'][164]\n",
    "data5"
   ]
  },
  {
   "cell_type": "code",
   "execution_count": null,
   "id": "3605cd1d",
   "metadata": {},
   "outputs": [],
   "source": []
  },
  {
   "cell_type": "code",
   "execution_count": null,
   "id": "97a7e5e7",
   "metadata": {},
   "outputs": [],
   "source": []
  }
 ],
 "metadata": {
  "kernelspec": {
   "display_name": "Python 3",
   "language": "python",
   "name": "python3"
  },
  "language_info": {
   "codemirror_mode": {
    "name": "ipython",
    "version": 3
   },
   "file_extension": ".py",
   "mimetype": "text/x-python",
   "name": "python",
   "nbconvert_exporter": "python",
   "pygments_lexer": "ipython3",
   "version": "3.8.8"
  }
 },
 "nbformat": 4,
 "nbformat_minor": 5
}
