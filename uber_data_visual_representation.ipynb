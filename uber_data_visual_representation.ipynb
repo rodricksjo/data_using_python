{
 "cells": [
  {
   "cell_type": "code",
   "execution_count": null,
   "id": "513af609",
   "metadata": {},
   "outputs": [],
   "source": [
    "import pandas as pd\n",
    "import numpy as np\n",
    "import matplotlib.pyplot as plt\n",
    "import seaborn as sns\n",
    "import os"
   ]
  },
  {
   "cell_type": "code",
   "execution_count": null,
   "id": "34a27b70",
   "metadata": {},
   "outputs": [],
   "source": [
    "uber_15=pd.read_csv(r'C:\\Users\\JOVAN RODRIGUES\\Desktop\\data_analsis\\uber-pickups-in-new-york-city/uber-raw-data-janjune-15.csv')"
   ]
  },
  {
   "cell_type": "code",
   "execution_count": null,
   "id": "1fdba3f3",
   "metadata": {},
   "outputs": [],
   "source": [
    "uber_15.head()"
   ]
  },
  {
   "cell_type": "code",
   "execution_count": null,
   "id": "7acc92c2",
   "metadata": {},
   "outputs": [],
   "source": [
    "uber_15['Pickup_date']=pd.to_datetime(uber_15['Pickup_date'],format='%Y-%m-%d %H:%M:%S')"
   ]
  },
  {
   "cell_type": "code",
   "execution_count": null,
   "id": "6f72cb87",
   "metadata": {},
   "outputs": [],
   "source": [
    "uber_15['weekday']=uber_15['Pickup_date'].dt.day_name()\n",
    "uber_15['day']=uber_15['Pickup_date'].dt.day\n",
    "uber_15['minute']=uber_15['Pickup_date'].dt.minute\n",
    "uber_15['month']=uber_15['Pickup_date'].dt.month\n",
    "uber_15['hour']=uber_15['Pickup_date'].dt.hour"
   ]
  },
  {
   "cell_type": "code",
   "execution_count": null,
   "id": "24894f10",
   "metadata": {},
   "outputs": [],
   "source": [
    "uber_15.head()"
   ]
  },
  {
   "cell_type": "code",
   "execution_count": null,
   "id": "ab39c853",
   "metadata": {},
   "outputs": [],
   "source": [
    "px.bar(x=uber_15['month'].value_counts().index,\n",
    "       y=uber_15['month'].value_counts())"
   ]
  },
  {
   "cell_type": "code",
   "execution_count": null,
   "id": "c923363c",
   "metadata": {},
   "outputs": [],
   "source": [
    "plt.figure(figsize=(12,6))\n",
    "sns.countplot(uber_15['hour'])"
   ]
  },
  {
   "cell_type": "code",
   "execution_count": null,
   "id": "20c9ac62",
   "metadata": {},
   "outputs": [],
   "source": [
    "summary=uber_15.groupby(['weekday','hour'])['Pickup_date'].count().reset_index()\n",
    "summary.head()"
   ]
  },
  {
   "cell_type": "code",
   "execution_count": null,
   "id": "aeef41c9",
   "metadata": {},
   "outputs": [],
   "source": [
    "summary.column=['weekday','hour','counts']"
   ]
  },
  {
   "cell_type": "code",
   "execution_count": null,
   "id": "766d1d15",
   "metadata": {},
   "outputs": [],
   "source": [
    "summary.head()"
   ]
  },
  {
   "cell_type": "code",
   "execution_count": null,
   "id": "f0514604",
   "metadata": {},
   "outputs": [],
   "source": [
    "plt.figure(figsize=(12,8))\n",
    "sns.pointplot(x='hour',y='Pickup_date',hue='weekday',data=summary)"
   ]
  },
  {
   "cell_type": "code",
   "execution_count": null,
   "id": "1b277d4b",
   "metadata": {},
   "outputs": [],
   "source": []
  },
  {
   "cell_type": "code",
   "execution_count": null,
   "id": "5187c0fb",
   "metadata": {},
   "outputs": [],
   "source": [
    "uber_foil=pd.read_csv(r'C:\\Users\\JOVAN RODRIGUES\\Desktop\\data_analsis\\uber-pickups-in-new-york-city/Uber-Jan-Feb-FOIL.csv')"
   ]
  },
  {
   "cell_type": "code",
   "execution_count": null,
   "id": "59e37e4e",
   "metadata": {},
   "outputs": [],
   "source": [
    "uber_foil.shape"
   ]
  },
  {
   "cell_type": "code",
   "execution_count": null,
   "id": "16b68c0a",
   "metadata": {},
   "outputs": [],
   "source": [
    "uber_foil['dispatching_base_number'].unique()"
   ]
  },
  {
   "cell_type": "code",
   "execution_count": null,
   "id": "f9fa6d46",
   "metadata": {},
   "outputs": [],
   "source": [
    "sns.boxplot(x='dispatching_base_number',y='active_vehicles',data=uber_foil)"
   ]
  },
  {
   "cell_type": "code",
   "execution_count": null,
   "id": "9eb0f42f",
   "metadata": {},
   "outputs": [],
   "source": [
    "sns.boxplot(x='dispatching_base_number',y='trips',data=uber_foil)"
   ]
  },
  {
   "cell_type": "code",
   "execution_count": null,
   "id": "a34f5afa",
   "metadata": {},
   "outputs": [],
   "source": [
    "uber_foil['trips/vehicle']=uber_foil['trips']/uber_foil['active_vehicles']"
   ]
  },
  {
   "cell_type": "code",
   "execution_count": null,
   "id": "39087ca7",
   "metadata": {},
   "outputs": [],
   "source": [
    "uber_foil.head()"
   ]
  },
  {
   "cell_type": "code",
   "execution_count": null,
   "id": "7c836648",
   "metadata": {},
   "outputs": [],
   "source": [
    "uber_foil.set_index('date')"
   ]
  },
  {
   "cell_type": "code",
   "execution_count": null,
   "id": "5a53d16e",
   "metadata": {},
   "outputs": [],
   "source": [
    "plt.figure(figsize=(12,6))\n",
    "uber_foil.set_index('date').groupby(['dispatching_base_number'])['trips/vehicle'].plot()\n",
    "plt.ylabel('Avg trips/vehicle')\n",
    "plt.title('Demand v/s Supply Chart')\n",
    "plt.legend()"
   ]
  },
  {
   "cell_type": "code",
   "execution_count": null,
   "id": "c95bdace",
   "metadata": {},
   "outputs": [],
   "source": []
  },
  {
   "cell_type": "code",
   "execution_count": null,
   "id": "def7d97c",
   "metadata": {},
   "outputs": [],
   "source": []
  }
 ],
 "metadata": {
  "kernelspec": {
   "display_name": "Python 3",
   "language": "python",
   "name": "python3"
  },
  "language_info": {
   "codemirror_mode": {
    "name": "ipython",
    "version": 3
   },
   "file_extension": ".py",
   "mimetype": "text/x-python",
   "name": "python",
   "nbconvert_exporter": "python",
   "pygments_lexer": "ipython3",
   "version": "3.8.8"
  }
 },
 "nbformat": 4,
 "nbformat_minor": 5
}
